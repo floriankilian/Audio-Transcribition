{
  "cells": [
    {
      "attachments": {},
      "cell_type": "markdown",
      "metadata": {},
      "source": [
        "# Install\n",
        "\n",
        "This Notebook can run on Google Colab. Open this notebook in Google Colab, drag & drop your mp3 file that you want to transcribe.\n",
        "\n",
        "Works really well with text recoginition and will provide you timestamps, however there is not speaker recognition.\n",
        "You could also make it auto-detect the language, works also really well with german."
      ]
    },
    {
      "cell_type": "code",
      "execution_count": null,
      "metadata": {
        "colab": {
          "base_uri": "https://localhost:8080/"
        },
        "id": "beiTAGJhMXQD",
        "outputId": "059d9ce3-4229-44cb-9985-2ff93b704c2c"
      },
      "outputs": [],
      "source": [
        "!pip install git+https://github.com/openai/whisper.git\n",
        "!sudo apt update && sudo apt install ffmpeg"
      ]
    },
    {
      "attachments": {},
      "cell_type": "markdown",
      "metadata": {
        "id": "o_mwZXPS_qL2"
      },
      "source": [
        "# Run Code"
      ]
    },
    {
      "cell_type": "code",
      "execution_count": null,
      "metadata": {
        "colab": {
          "base_uri": "https://localhost:8080/"
        },
        "id": "q8A_bt_HNkIX",
        "outputId": "f84f3b0a-d213-4988-f326-7b99d98d535f"
      },
      "outputs": [],
      "source": [
        "!whisper \"interview.mp3\" --model large-v2 --language English"
      ]
    }
  ],
  "metadata": {
    "accelerator": "GPU",
    "colab": {
      "gpuType": "T4",
      "provenance": []
    },
    "gpuClass": "standard",
    "kernelspec": {
      "display_name": "Python 3",
      "name": "python3"
    },
    "language_info": {
      "name": "python"
    }
  },
  "nbformat": 4,
  "nbformat_minor": 0
}
